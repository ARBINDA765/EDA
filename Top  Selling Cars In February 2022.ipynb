{
 "cells": [
  {
   "cell_type": "code",
   "execution_count": 1,
   "id": "ea5b4ac7",
   "metadata": {},
   "outputs": [
    {
     "name": "stdout",
     "output_type": "stream",
     "text": [
      "Requirement already satisfied: lxml in c:\\users\\arabi\\appdata\\local\\packages\\pythonsoftwarefoundation.python.3.9_qbz5n2kfra8p0\\localcache\\local-packages\\python39\\site-packages (4.8.0)\n",
      "Requirement already satisfied: lxml in c:\\users\\arabi\\appdata\\local\\packages\\pythonsoftwarefoundation.python.3.9_qbz5n2kfra8p0\\localcache\\local-packages\\python39\\site-packages (4.8.0)\n"
     ]
    }
   ],
   "source": [
    "#Importing all the library\n",
    "import pandas as pd\n",
    "import numpy as np\n",
    "!pip install lxml\n",
    "import lxml\n",
    "!pip3 install lxml\n",
    "import seaborn as sns\n",
    "import matplotlib.pyplot as plt\n",
    "\n",
    "%matplotlib inline\n"
   ]
  },
  {
   "cell_type": "code",
   "execution_count": 2,
   "id": "c4a9672c",
   "metadata": {},
   "outputs": [],
   "source": [
    "#Reading the table from the url\n",
    "url='https://www.motorbeam.com/february-2022-car-sales-maruti-swift-leads-dzire-comes-second/'\n",
    "df_car=pd.read_html(url)[0]\n"
   ]
  },
  {
   "cell_type": "code",
   "execution_count": 3,
   "id": "974cd595",
   "metadata": {},
   "outputs": [
    {
     "data": {
      "text/html": [
       "<div>\n",
       "<style scoped>\n",
       "    .dataframe tbody tr th:only-of-type {\n",
       "        vertical-align: middle;\n",
       "    }\n",
       "\n",
       "    .dataframe tbody tr th {\n",
       "        vertical-align: top;\n",
       "    }\n",
       "\n",
       "    .dataframe thead th {\n",
       "        text-align: right;\n",
       "    }\n",
       "</style>\n",
       "<table border=\"1\" class=\"dataframe\">\n",
       "  <thead>\n",
       "    <tr style=\"text-align: right;\">\n",
       "      <th></th>\n",
       "      <th>Rank</th>\n",
       "      <th>OEM</th>\n",
       "      <th>Model</th>\n",
       "      <th>Feb ’22 Sales</th>\n",
       "      <th>Feb ’21 Sales</th>\n",
       "      <th>YoY Growth</th>\n",
       "    </tr>\n",
       "  </thead>\n",
       "  <tbody>\n",
       "    <tr>\n",
       "      <th>0</th>\n",
       "      <td>1</td>\n",
       "      <td>Maruti</td>\n",
       "      <td>Swift</td>\n",
       "      <td>19202</td>\n",
       "      <td>20264</td>\n",
       "      <td>-5%</td>\n",
       "    </tr>\n",
       "    <tr>\n",
       "      <th>1</th>\n",
       "      <td>2</td>\n",
       "      <td>Maruti</td>\n",
       "      <td>Dzire</td>\n",
       "      <td>17438</td>\n",
       "      <td>11901</td>\n",
       "      <td>47%</td>\n",
       "    </tr>\n",
       "    <tr>\n",
       "      <th>2</th>\n",
       "      <td>3</td>\n",
       "      <td>Maruti</td>\n",
       "      <td>Wagon R</td>\n",
       "      <td>14669</td>\n",
       "      <td>18728</td>\n",
       "      <td>-22%</td>\n",
       "    </tr>\n",
       "    <tr>\n",
       "      <th>3</th>\n",
       "      <td>4</td>\n",
       "      <td>Maruti</td>\n",
       "      <td>Baleno</td>\n",
       "      <td>12570</td>\n",
       "      <td>20070</td>\n",
       "      <td>-37%</td>\n",
       "    </tr>\n",
       "    <tr>\n",
       "      <th>4</th>\n",
       "      <td>5</td>\n",
       "      <td>Tata</td>\n",
       "      <td>Nexon</td>\n",
       "      <td>12259</td>\n",
       "      <td>7929</td>\n",
       "      <td>55%</td>\n",
       "    </tr>\n",
       "  </tbody>\n",
       "</table>\n",
       "</div>"
      ],
      "text/plain": [
       "   Rank     OEM    Model  Feb ’22 Sales Feb ’21 Sales YoY Growth\n",
       "0     1  Maruti    Swift          19202         20264        -5%\n",
       "1     2  Maruti    Dzire          17438         11901        47%\n",
       "2     3  Maruti  Wagon R          14669         18728       -22%\n",
       "3     4  Maruti   Baleno          12570         20070       -37%\n",
       "4     5    Tata    Nexon          12259          7929        55%"
      ]
     },
     "execution_count": 3,
     "metadata": {},
     "output_type": "execute_result"
    }
   ],
   "source": [
    "#Checking the heading\n",
    "df_car.head()"
   ]
  },
  {
   "cell_type": "code",
   "execution_count": 4,
   "id": "b0133a25",
   "metadata": {},
   "outputs": [
    {
     "data": {
      "text/plain": [
       "Rank             0\n",
       "OEM              0\n",
       "Model            0\n",
       "Feb ’22 Sales    0\n",
       "Feb ’21 Sales    0\n",
       "YoY Growth       0\n",
       "dtype: int64"
      ]
     },
     "execution_count": 4,
     "metadata": {},
     "output_type": "execute_result"
    }
   ],
   "source": [
    "#checking the null value\n",
    "df_car.isnull().sum()"
   ]
  },
  {
   "cell_type": "code",
   "execution_count": 5,
   "id": "5222cb2b",
   "metadata": {},
   "outputs": [
    {
     "name": "stdout",
     "output_type": "stream",
     "text": [
      "<class 'pandas.core.frame.DataFrame'>\n",
      "RangeIndex: 25 entries, 0 to 24\n",
      "Data columns (total 6 columns):\n",
      " #   Column         Non-Null Count  Dtype \n",
      "---  ------         --------------  ----- \n",
      " 0   Rank           25 non-null     int64 \n",
      " 1   OEM            25 non-null     object\n",
      " 2   Model          25 non-null     object\n",
      " 3   Feb ’22 Sales  25 non-null     int64 \n",
      " 4   Feb ’21 Sales  25 non-null     object\n",
      " 5   YoY Growth     25 non-null     object\n",
      "dtypes: int64(2), object(4)\n",
      "memory usage: 1.3+ KB\n"
     ]
    }
   ],
   "source": [
    "#Checking th einformation of datatypes\n",
    "df_car.info()"
   ]
  },
  {
   "cell_type": "code",
   "execution_count": 6,
   "id": "38f425a1",
   "metadata": {},
   "outputs": [
    {
     "name": "stdout",
     "output_type": "stream",
     "text": [
      "Rank\n",
      "Feb ’22 Sales\n"
     ]
    }
   ],
   "source": [
    "#To find the objects and Int64 columns\n",
    "s=[]\n",
    "\n",
    "for i in df_car.columns:\n",
    "    if df_car[i].dtype =='O':\n",
    "        s.append(i)\n",
    "    else:\n",
    "        print(i)\n"
   ]
  },
  {
   "cell_type": "code",
   "execution_count": 7,
   "id": "47bd6f84",
   "metadata": {},
   "outputs": [],
   "source": [
    "\n",
    "#Renaming the columns \n",
    "df_car.rename(columns={\"Feb ’21 Sales\": \"Feb_21_Sales\", \"Feb ’22 Sales\": \"Feb_22_Sales\"},inplace=True)"
   ]
  },
  {
   "cell_type": "code",
   "execution_count": 8,
   "id": "842b2dce",
   "metadata": {},
   "outputs": [
    {
     "data": {
      "text/html": [
       "<div>\n",
       "<style scoped>\n",
       "    .dataframe tbody tr th:only-of-type {\n",
       "        vertical-align: middle;\n",
       "    }\n",
       "\n",
       "    .dataframe tbody tr th {\n",
       "        vertical-align: top;\n",
       "    }\n",
       "\n",
       "    .dataframe thead th {\n",
       "        text-align: right;\n",
       "    }\n",
       "</style>\n",
       "<table border=\"1\" class=\"dataframe\">\n",
       "  <thead>\n",
       "    <tr style=\"text-align: right;\">\n",
       "      <th></th>\n",
       "      <th>Rank</th>\n",
       "      <th>OEM</th>\n",
       "      <th>Model</th>\n",
       "      <th>Feb_22_Sales</th>\n",
       "      <th>Feb_21_Sales</th>\n",
       "      <th>YoY Growth</th>\n",
       "    </tr>\n",
       "  </thead>\n",
       "  <tbody>\n",
       "    <tr>\n",
       "      <th>0</th>\n",
       "      <td>1</td>\n",
       "      <td>Maruti</td>\n",
       "      <td>Swift</td>\n",
       "      <td>19202</td>\n",
       "      <td>20264</td>\n",
       "      <td>-5%</td>\n",
       "    </tr>\n",
       "    <tr>\n",
       "      <th>1</th>\n",
       "      <td>2</td>\n",
       "      <td>Maruti</td>\n",
       "      <td>Dzire</td>\n",
       "      <td>17438</td>\n",
       "      <td>11901</td>\n",
       "      <td>47%</td>\n",
       "    </tr>\n",
       "    <tr>\n",
       "      <th>2</th>\n",
       "      <td>3</td>\n",
       "      <td>Maruti</td>\n",
       "      <td>Wagon R</td>\n",
       "      <td>14669</td>\n",
       "      <td>18728</td>\n",
       "      <td>-22%</td>\n",
       "    </tr>\n",
       "    <tr>\n",
       "      <th>3</th>\n",
       "      <td>4</td>\n",
       "      <td>Maruti</td>\n",
       "      <td>Baleno</td>\n",
       "      <td>12570</td>\n",
       "      <td>20070</td>\n",
       "      <td>-37%</td>\n",
       "    </tr>\n",
       "    <tr>\n",
       "      <th>4</th>\n",
       "      <td>5</td>\n",
       "      <td>Tata</td>\n",
       "      <td>Nexon</td>\n",
       "      <td>12259</td>\n",
       "      <td>7929</td>\n",
       "      <td>55%</td>\n",
       "    </tr>\n",
       "  </tbody>\n",
       "</table>\n",
       "</div>"
      ],
      "text/plain": [
       "   Rank     OEM    Model  Feb_22_Sales Feb_21_Sales YoY Growth\n",
       "0     1  Maruti    Swift         19202        20264        -5%\n",
       "1     2  Maruti    Dzire         17438        11901        47%\n",
       "2     3  Maruti  Wagon R         14669        18728       -22%\n",
       "3     4  Maruti   Baleno         12570        20070       -37%\n",
       "4     5    Tata    Nexon         12259         7929        55%"
      ]
     },
     "execution_count": 8,
     "metadata": {},
     "output_type": "execute_result"
    }
   ],
   "source": [
    "#Checking the dataframe after the renaming\n",
    "df_car.head()"
   ]
  },
  {
   "cell_type": "code",
   "execution_count": 9,
   "id": "d56952cd",
   "metadata": {},
   "outputs": [
    {
     "data": {
      "text/plain": [
       "Index(['Rank', 'OEM', 'Model', 'Feb_22_Sales', 'Feb_21_Sales', 'YoY Growth'], dtype='object')"
      ]
     },
     "execution_count": 9,
     "metadata": {},
     "output_type": "execute_result"
    }
   ],
   "source": [
    "#Checking the columns\n",
    "df_car.columns"
   ]
  },
  {
   "cell_type": "code",
   "execution_count": 10,
   "id": "412257c1",
   "metadata": {},
   "outputs": [],
   "source": [
    "#Converting the datatypes to Int\n",
    "df_car.Rank=df_car.Rank.astype('int64')"
   ]
  },
  {
   "cell_type": "code",
   "execution_count": 11,
   "id": "71154666",
   "metadata": {},
   "outputs": [],
   "source": [
    "df_car.Feb_22_Sales=df_car.Feb_22_Sales.astype('int64')"
   ]
  },
  {
   "cell_type": "code",
   "execution_count": 12,
   "id": "58bd8082",
   "metadata": {},
   "outputs": [],
   "source": [
    "#Replacing the null vakues in the column\n",
    "df_car.Feb_21_Sales.replace('–',\"0\",inplace=True)"
   ]
  },
  {
   "cell_type": "code",
   "execution_count": 13,
   "id": "edfacf70",
   "metadata": {},
   "outputs": [],
   "source": [
    "#Converting the data types to int\n",
    "df_car.Feb_21_Sales=df_car.Feb_21_Sales.astype('int64')"
   ]
  },
  {
   "cell_type": "code",
   "execution_count": 14,
   "id": "2b39152b",
   "metadata": {},
   "outputs": [
    {
     "name": "stdout",
     "output_type": "stream",
     "text": [
      "<class 'pandas.core.frame.DataFrame'>\n",
      "RangeIndex: 25 entries, 0 to 24\n",
      "Data columns (total 6 columns):\n",
      " #   Column        Non-Null Count  Dtype \n",
      "---  ------        --------------  ----- \n",
      " 0   Rank          25 non-null     int64 \n",
      " 1   OEM           25 non-null     object\n",
      " 2   Model         25 non-null     object\n",
      " 3   Feb_22_Sales  25 non-null     int64 \n",
      " 4   Feb_21_Sales  25 non-null     int64 \n",
      " 5   YoY Growth    25 non-null     object\n",
      "dtypes: int64(3), object(3)\n",
      "memory usage: 1.3+ KB\n"
     ]
    }
   ],
   "source": [
    "#Checking the data types\n",
    "df_car.info()"
   ]
  },
  {
   "cell_type": "code",
   "execution_count": 15,
   "id": "9970f3a9",
   "metadata": {},
   "outputs": [],
   "source": [
    "#Calcuating the yoy GROWTH \n",
    "df_YOY_Growth=round((df_car['Feb_22_Sales']-df_car['Feb_21_Sales'])/(df_car['Feb_21_Sales']) * 100,2)"
   ]
  },
  {
   "cell_type": "code",
   "execution_count": 16,
   "id": "8f472180",
   "metadata": {},
   "outputs": [
    {
     "data": {
      "text/plain": [
       "0    -5.24\n",
       "1    46.53\n",
       "2   -21.67\n",
       "3   -37.37\n",
       "4    54.61\n",
       "dtype: float64"
      ]
     },
     "execution_count": 16,
     "metadata": {},
     "output_type": "execute_result"
    }
   ],
   "source": [
    "#Checking the dataframe \n",
    "df_YOY_Growth.head()"
   ]
  },
  {
   "cell_type": "code",
   "execution_count": 17,
   "id": "f22efcfd",
   "metadata": {},
   "outputs": [],
   "source": [
    "#Concate the YOY-growth with df_car\n",
    "df_car=pd.concat([df_car,df_YOY_Growth],axis=1,names=\"YOY_Growth\")"
   ]
  },
  {
   "cell_type": "code",
   "execution_count": 18,
   "id": "71633b9b",
   "metadata": {},
   "outputs": [],
   "source": [
    "#Renaming the column\n",
    "df_car.rename(columns={0: \"YOY_Growth\"},inplace=True)"
   ]
  },
  {
   "cell_type": "code",
   "execution_count": 19,
   "id": "699fb554",
   "metadata": {},
   "outputs": [
    {
     "data": {
      "text/html": [
       "<div>\n",
       "<style scoped>\n",
       "    .dataframe tbody tr th:only-of-type {\n",
       "        vertical-align: middle;\n",
       "    }\n",
       "\n",
       "    .dataframe tbody tr th {\n",
       "        vertical-align: top;\n",
       "    }\n",
       "\n",
       "    .dataframe thead th {\n",
       "        text-align: right;\n",
       "    }\n",
       "</style>\n",
       "<table border=\"1\" class=\"dataframe\">\n",
       "  <thead>\n",
       "    <tr style=\"text-align: right;\">\n",
       "      <th></th>\n",
       "      <th>Rank</th>\n",
       "      <th>OEM</th>\n",
       "      <th>Model</th>\n",
       "      <th>Feb_22_Sales</th>\n",
       "      <th>Feb_21_Sales</th>\n",
       "      <th>YoY Growth</th>\n",
       "      <th>YOY_Growth</th>\n",
       "    </tr>\n",
       "  </thead>\n",
       "  <tbody>\n",
       "    <tr>\n",
       "      <th>0</th>\n",
       "      <td>1</td>\n",
       "      <td>Maruti</td>\n",
       "      <td>Swift</td>\n",
       "      <td>19202</td>\n",
       "      <td>20264</td>\n",
       "      <td>-5%</td>\n",
       "      <td>-5.24</td>\n",
       "    </tr>\n",
       "    <tr>\n",
       "      <th>1</th>\n",
       "      <td>2</td>\n",
       "      <td>Maruti</td>\n",
       "      <td>Dzire</td>\n",
       "      <td>17438</td>\n",
       "      <td>11901</td>\n",
       "      <td>47%</td>\n",
       "      <td>46.53</td>\n",
       "    </tr>\n",
       "    <tr>\n",
       "      <th>2</th>\n",
       "      <td>3</td>\n",
       "      <td>Maruti</td>\n",
       "      <td>Wagon R</td>\n",
       "      <td>14669</td>\n",
       "      <td>18728</td>\n",
       "      <td>-22%</td>\n",
       "      <td>-21.67</td>\n",
       "    </tr>\n",
       "    <tr>\n",
       "      <th>3</th>\n",
       "      <td>4</td>\n",
       "      <td>Maruti</td>\n",
       "      <td>Baleno</td>\n",
       "      <td>12570</td>\n",
       "      <td>20070</td>\n",
       "      <td>-37%</td>\n",
       "      <td>-37.37</td>\n",
       "    </tr>\n",
       "    <tr>\n",
       "      <th>4</th>\n",
       "      <td>5</td>\n",
       "      <td>Tata</td>\n",
       "      <td>Nexon</td>\n",
       "      <td>12259</td>\n",
       "      <td>7929</td>\n",
       "      <td>55%</td>\n",
       "      <td>54.61</td>\n",
       "    </tr>\n",
       "  </tbody>\n",
       "</table>\n",
       "</div>"
      ],
      "text/plain": [
       "   Rank     OEM    Model  Feb_22_Sales  Feb_21_Sales YoY Growth  YOY_Growth\n",
       "0     1  Maruti    Swift         19202         20264        -5%       -5.24\n",
       "1     2  Maruti    Dzire         17438         11901        47%       46.53\n",
       "2     3  Maruti  Wagon R         14669         18728       -22%      -21.67\n",
       "3     4  Maruti   Baleno         12570         20070       -37%      -37.37\n",
       "4     5    Tata    Nexon         12259          7929        55%       54.61"
      ]
     },
     "execution_count": 19,
     "metadata": {},
     "output_type": "execute_result"
    }
   ],
   "source": [
    "#Checking the heding\n",
    "df_car.head()"
   ]
  },
  {
   "cell_type": "code",
   "execution_count": 20,
   "id": "e979797d",
   "metadata": {},
   "outputs": [],
   "source": [
    "#Drop the unnecessary column\n",
    "df_car.drop(['YoY Growth'],axis=1,inplace=True)"
   ]
  },
  {
   "cell_type": "code",
   "execution_count": 21,
   "id": "334a7a80",
   "metadata": {},
   "outputs": [
    {
     "data": {
      "text/html": [
       "<div>\n",
       "<style scoped>\n",
       "    .dataframe tbody tr th:only-of-type {\n",
       "        vertical-align: middle;\n",
       "    }\n",
       "\n",
       "    .dataframe tbody tr th {\n",
       "        vertical-align: top;\n",
       "    }\n",
       "\n",
       "    .dataframe thead th {\n",
       "        text-align: right;\n",
       "    }\n",
       "</style>\n",
       "<table border=\"1\" class=\"dataframe\">\n",
       "  <thead>\n",
       "    <tr style=\"text-align: right;\">\n",
       "      <th></th>\n",
       "      <th>Rank</th>\n",
       "      <th>OEM</th>\n",
       "      <th>Model</th>\n",
       "      <th>Feb_22_Sales</th>\n",
       "      <th>Feb_21_Sales</th>\n",
       "      <th>YOY_Growth</th>\n",
       "    </tr>\n",
       "  </thead>\n",
       "  <tbody>\n",
       "    <tr>\n",
       "      <th>0</th>\n",
       "      <td>1</td>\n",
       "      <td>Maruti</td>\n",
       "      <td>Swift</td>\n",
       "      <td>19202</td>\n",
       "      <td>20264</td>\n",
       "      <td>-5.24</td>\n",
       "    </tr>\n",
       "    <tr>\n",
       "      <th>1</th>\n",
       "      <td>2</td>\n",
       "      <td>Maruti</td>\n",
       "      <td>Dzire</td>\n",
       "      <td>17438</td>\n",
       "      <td>11901</td>\n",
       "      <td>46.53</td>\n",
       "    </tr>\n",
       "    <tr>\n",
       "      <th>2</th>\n",
       "      <td>3</td>\n",
       "      <td>Maruti</td>\n",
       "      <td>Wagon R</td>\n",
       "      <td>14669</td>\n",
       "      <td>18728</td>\n",
       "      <td>-21.67</td>\n",
       "    </tr>\n",
       "    <tr>\n",
       "      <th>3</th>\n",
       "      <td>4</td>\n",
       "      <td>Maruti</td>\n",
       "      <td>Baleno</td>\n",
       "      <td>12570</td>\n",
       "      <td>20070</td>\n",
       "      <td>-37.37</td>\n",
       "    </tr>\n",
       "    <tr>\n",
       "      <th>4</th>\n",
       "      <td>5</td>\n",
       "      <td>Tata</td>\n",
       "      <td>Nexon</td>\n",
       "      <td>12259</td>\n",
       "      <td>7929</td>\n",
       "      <td>54.61</td>\n",
       "    </tr>\n",
       "  </tbody>\n",
       "</table>\n",
       "</div>"
      ],
      "text/plain": [
       "   Rank     OEM    Model  Feb_22_Sales  Feb_21_Sales  YOY_Growth\n",
       "0     1  Maruti    Swift         19202         20264       -5.24\n",
       "1     2  Maruti    Dzire         17438         11901       46.53\n",
       "2     3  Maruti  Wagon R         14669         18728      -21.67\n",
       "3     4  Maruti   Baleno         12570         20070      -37.37\n",
       "4     5    Tata    Nexon         12259          7929       54.61"
      ]
     },
     "execution_count": 21,
     "metadata": {},
     "output_type": "execute_result"
    }
   ],
   "source": [
    "df_car.head()"
   ]
  },
  {
   "cell_type": "code",
   "execution_count": 22,
   "id": "9b29820c",
   "metadata": {},
   "outputs": [],
   "source": [
    "#Replacing th =e inf value with 0\n",
    "df_car.replace([np.inf, -np.inf], np.nan, inplace=True)"
   ]
  },
  {
   "cell_type": "code",
   "execution_count": 23,
   "id": "3a10b853",
   "metadata": {},
   "outputs": [
    {
     "data": {
      "text/html": [
       "<div>\n",
       "<style scoped>\n",
       "    .dataframe tbody tr th:only-of-type {\n",
       "        vertical-align: middle;\n",
       "    }\n",
       "\n",
       "    .dataframe tbody tr th {\n",
       "        vertical-align: top;\n",
       "    }\n",
       "\n",
       "    .dataframe thead th {\n",
       "        text-align: right;\n",
       "    }\n",
       "</style>\n",
       "<table border=\"1\" class=\"dataframe\">\n",
       "  <thead>\n",
       "    <tr style=\"text-align: right;\">\n",
       "      <th></th>\n",
       "      <th>Rank</th>\n",
       "      <th>OEM</th>\n",
       "      <th>Model</th>\n",
       "      <th>Feb_22_Sales</th>\n",
       "      <th>Feb_21_Sales</th>\n",
       "      <th>YOY_Growth</th>\n",
       "    </tr>\n",
       "  </thead>\n",
       "  <tbody>\n",
       "    <tr>\n",
       "      <th>0</th>\n",
       "      <td>1</td>\n",
       "      <td>Maruti</td>\n",
       "      <td>Swift</td>\n",
       "      <td>19202</td>\n",
       "      <td>20264</td>\n",
       "      <td>-5.24</td>\n",
       "    </tr>\n",
       "    <tr>\n",
       "      <th>1</th>\n",
       "      <td>2</td>\n",
       "      <td>Maruti</td>\n",
       "      <td>Dzire</td>\n",
       "      <td>17438</td>\n",
       "      <td>11901</td>\n",
       "      <td>46.53</td>\n",
       "    </tr>\n",
       "    <tr>\n",
       "      <th>2</th>\n",
       "      <td>3</td>\n",
       "      <td>Maruti</td>\n",
       "      <td>Wagon R</td>\n",
       "      <td>14669</td>\n",
       "      <td>18728</td>\n",
       "      <td>-21.67</td>\n",
       "    </tr>\n",
       "    <tr>\n",
       "      <th>3</th>\n",
       "      <td>4</td>\n",
       "      <td>Maruti</td>\n",
       "      <td>Baleno</td>\n",
       "      <td>12570</td>\n",
       "      <td>20070</td>\n",
       "      <td>-37.37</td>\n",
       "    </tr>\n",
       "    <tr>\n",
       "      <th>4</th>\n",
       "      <td>5</td>\n",
       "      <td>Tata</td>\n",
       "      <td>Nexon</td>\n",
       "      <td>12259</td>\n",
       "      <td>7929</td>\n",
       "      <td>54.61</td>\n",
       "    </tr>\n",
       "    <tr>\n",
       "      <th>5</th>\n",
       "      <td>6</td>\n",
       "      <td>Maruti</td>\n",
       "      <td>Ertiga</td>\n",
       "      <td>11649</td>\n",
       "      <td>9774</td>\n",
       "      <td>19.18</td>\n",
       "    </tr>\n",
       "    <tr>\n",
       "      <th>6</th>\n",
       "      <td>7</td>\n",
       "      <td>Maruti</td>\n",
       "      <td>Alto</td>\n",
       "      <td>11551</td>\n",
       "      <td>16919</td>\n",
       "      <td>-31.73</td>\n",
       "    </tr>\n",
       "    <tr>\n",
       "      <th>7</th>\n",
       "      <td>8</td>\n",
       "      <td>Mahindra</td>\n",
       "      <td>Bolero</td>\n",
       "      <td>11045</td>\n",
       "      <td>4843</td>\n",
       "      <td>128.06</td>\n",
       "    </tr>\n",
       "    <tr>\n",
       "      <th>8</th>\n",
       "      <td>9</td>\n",
       "      <td>Hyundai</td>\n",
       "      <td>Venue</td>\n",
       "      <td>10212</td>\n",
       "      <td>11224</td>\n",
       "      <td>-9.02</td>\n",
       "    </tr>\n",
       "    <tr>\n",
       "      <th>9</th>\n",
       "      <td>10</td>\n",
       "      <td>Maruti</td>\n",
       "      <td>Celerio</td>\n",
       "      <td>9896</td>\n",
       "      <td>6214</td>\n",
       "      <td>59.25</td>\n",
       "    </tr>\n",
       "  </tbody>\n",
       "</table>\n",
       "</div>"
      ],
      "text/plain": [
       "   Rank       OEM    Model  Feb_22_Sales  Feb_21_Sales  YOY_Growth\n",
       "0     1    Maruti    Swift         19202         20264       -5.24\n",
       "1     2    Maruti    Dzire         17438         11901       46.53\n",
       "2     3    Maruti  Wagon R         14669         18728      -21.67\n",
       "3     4    Maruti   Baleno         12570         20070      -37.37\n",
       "4     5      Tata    Nexon         12259          7929       54.61\n",
       "5     6    Maruti   Ertiga         11649          9774       19.18\n",
       "6     7    Maruti     Alto         11551         16919      -31.73\n",
       "7     8  Mahindra   Bolero         11045          4843      128.06\n",
       "8     9   Hyundai    Venue         10212         11224       -9.02\n",
       "9    10    Maruti  Celerio          9896          6214       59.25"
      ]
     },
     "execution_count": 23,
     "metadata": {},
     "output_type": "execute_result"
    }
   ],
   "source": [
    "#Checking the head\n",
    "df_car.head(10)"
   ]
  },
  {
   "cell_type": "code",
   "execution_count": 24,
   "id": "361e39b1",
   "metadata": {},
   "outputs": [
    {
     "name": "stderr",
     "output_type": "stream",
     "text": [
      "C:\\Users\\arabi\\AppData\\Local\\Packages\\PythonSoftwareFoundation.Python.3.9_qbz5n2kfra8p0\\LocalCache\\local-packages\\Python39\\site-packages\\seaborn\\_decorators.py:36: FutureWarning: Pass the following variables as keyword args: x, y. From version 0.12, the only valid positional argument will be `data`, and passing other arguments without an explicit keyword will result in an error or misinterpretation.\n",
      "  warnings.warn(\n"
     ]
    },
    {
     "data": {
      "image/png": "[encoded data removed]",
      "text/plain": [
       "<Figure size 432x288 with 1 Axes>"
      ]
     },
     "metadata": {
      "needs_background": "light"
     },
     "output_type": "display_data"
    }
   ],
   "source": [
    "#Model vs Sales 22\n",
    "sns.barplot('OEM','Feb_22_Sales',data=df_car,capsize=.1,errwidth=None)\n",
    "plt.rcParams['figure.figsize'] = (18, 10)"
   ]
  },
  {
   "cell_type": "code",
   "execution_count": 25,
   "id": "63717e2a",
   "metadata": {},
   "outputs": [],
   "source": [
    "#Finding top ranking company where sales are highest\n",
    "df_TOP=(df_car.groupby('OEM').size().sort_values(ascending=False))"
   ]
  },
  {
   "cell_type": "code",
   "execution_count": 26,
   "id": "9665be8f",
   "metadata": {},
   "outputs": [],
   "source": [
    "#Renaming column \n",
    "df_TOP=df_TOP.reset_index()\n",
    "df_TOP.rename(columns={0:\"Count\"},inplace=True)"
   ]
  },
  {
   "cell_type": "code",
   "execution_count": 27,
   "id": "a7a0df0f",
   "metadata": {},
   "outputs": [
    {
     "data": {
      "text/html": [
       "<div>\n",
       "<style scoped>\n",
       "    .dataframe tbody tr th:only-of-type {\n",
       "        vertical-align: middle;\n",
       "    }\n",
       "\n",
       "    .dataframe tbody tr th {\n",
       "        vertical-align: top;\n",
       "    }\n",
       "\n",
       "    .dataframe thead th {\n",
       "        text-align: right;\n",
       "    }\n",
       "</style>\n",
       "<table border=\"1\" class=\"dataframe\">\n",
       "  <thead>\n",
       "    <tr style=\"text-align: right;\">\n",
       "      <th></th>\n",
       "      <th>OEM</th>\n",
       "      <th>Count</th>\n",
       "    </tr>\n",
       "  </thead>\n",
       "  <tbody>\n",
       "    <tr>\n",
       "      <th>0</th>\n",
       "      <td>Maruti</td>\n",
       "      <td>10</td>\n",
       "    </tr>\n",
       "    <tr>\n",
       "      <th>1</th>\n",
       "      <td>Hyundai</td>\n",
       "      <td>4</td>\n",
       "    </tr>\n",
       "    <tr>\n",
       "      <th>2</th>\n",
       "      <td>Tata</td>\n",
       "      <td>4</td>\n",
       "    </tr>\n",
       "    <tr>\n",
       "      <th>3</th>\n",
       "      <td>Kia</td>\n",
       "      <td>3</td>\n",
       "    </tr>\n",
       "    <tr>\n",
       "      <th>4</th>\n",
       "      <td>Mahindra</td>\n",
       "      <td>3</td>\n",
       "    </tr>\n",
       "    <tr>\n",
       "      <th>5</th>\n",
       "      <td>Toyota</td>\n",
       "      <td>1</td>\n",
       "    </tr>\n",
       "  </tbody>\n",
       "</table>\n",
       "</div>"
      ],
      "text/plain": [
       "        OEM  Count\n",
       "0    Maruti     10\n",
       "1   Hyundai      4\n",
       "2      Tata      4\n",
       "3       Kia      3\n",
       "4  Mahindra      3\n",
       "5    Toyota      1"
      ]
     },
     "execution_count": 27,
     "metadata": {},
     "output_type": "execute_result"
    }
   ],
   "source": [
    "#Checking after the renaming \n",
    "df_TOP"
   ]
  },
  {
   "cell_type": "code",
   "execution_count": 28,
   "id": "310ee2a4",
   "metadata": {},
   "outputs": [
    {
     "name": "stderr",
     "output_type": "stream",
     "text": [
      "C:\\Users\\arabi\\AppData\\Local\\Packages\\PythonSoftwareFoundation.Python.3.9_qbz5n2kfra8p0\\LocalCache\\local-packages\\Python39\\site-packages\\seaborn\\_decorators.py:36: FutureWarning: Pass the following variables as keyword args: x, y. From version 0.12, the only valid positional argument will be `data`, and passing other arguments without an explicit keyword will result in an error or misinterpretation.\n",
      "  warnings.warn(\n"
     ]
    },
    {
     "data": {
      "image/png": "[encoded data removed]",
      "text/plain": [
       "<Figure size 1296x720 with 1 Axes>"
      ]
     },
     "metadata": {
      "needs_background": "light"
     },
     "output_type": "display_data"
    }
   ],
   "source": [
    "#TOP SALES COMPANY\n",
    "sns.barplot (df_TOP['OEM'],df_TOP['Count'],capsize=2)\n",
    "plt.rcParams['figure.figsize'] = (18, 10)\n",
    "#MARUTI IS THE HAVING HIGHEST SALES"
   ]
  },
  {
   "cell_type": "code",
   "execution_count": 29,
   "id": "ec1fb4df",
   "metadata": {},
   "outputs": [
    {
     "data": {
      "text/plain": [
       "<AxesSubplot:>"
      ]
     },
     "execution_count": 29,
     "metadata": {},
     "output_type": "execute_result"
    },
    {
     "data": {
      "image/png": "[encoded data removed]",
      "text/plain": [
       "<Figure size 1296x720 with 1 Axes>"
      ]
     },
     "metadata": {
      "needs_background": "light"
     },
     "output_type": "display_data"
    }
   ],
   "source": [
    "#Rank VS YOY GROWTH\n",
    "df_car[['YOY_Growth','Rank']].plot.line()"
   ]
  },
  {
   "cell_type": "code",
   "execution_count": 30,
   "id": "8f710886",
   "metadata": {},
   "outputs": [
    {
     "data": {
      "text/plain": [
       "<AxesSubplot:>"
      ]
     },
     "execution_count": 30,
     "metadata": {},
     "output_type": "execute_result"
    },
    {
     "data": {
      "image/png": "[encoded data removed]",
      "text/plain": [
       "<Figure size 1296x720 with 1 Axes>"
      ]
     },
     "metadata": {
      "needs_background": "light"
     },
     "output_type": "display_data"
    }
   ],
   "source": [
    "#21 SALES VS 22 SALES\n",
    "df_car[['Feb_22_Sales','Feb_21_Sales']].plot.line()\n",
    "#FEB 2021 SALES IS MORE AS COMPARE TO 2022 FEB"
   ]
  },
  {
   "cell_type": "code",
   "execution_count": 31,
   "id": "8002eed7",
   "metadata": {},
   "outputs": [
    {
     "name": "stderr",
     "output_type": "stream",
     "text": [
      "C:\\Users\\arabi\\AppData\\Local\\Packages\\PythonSoftwareFoundation.Python.3.9_qbz5n2kfra8p0\\LocalCache\\local-packages\\Python39\\site-packages\\seaborn\\_decorators.py:36: FutureWarning: Pass the following variables as keyword args: x, y. From version 0.12, the only valid positional argument will be `data`, and passing other arguments without an explicit keyword will result in an error or misinterpretation.\n",
      "  warnings.warn(\n"
     ]
    },
    {
     "data": {
      "text/plain": [
       "<AxesSubplot:xlabel='OEM', ylabel='Feb_21_Sales'>"
      ]
     },
     "execution_count": 31,
     "metadata": {},
     "output_type": "execute_result"
    },
    {
     "data": {
      "image/png": "[encoded data removed]",
      "text/plain": [
       "<Figure size 1296x720 with 1 Axes>"
      ]
     },
     "metadata": {
      "needs_background": "light"
     },
     "output_type": "display_data"
    }
   ],
   "source": [
    "#FEB 21 SALES VS OEM\n",
    "sns.barplot('OEM','Feb_21_Sales',data=df_car,orient=\"v\")\n",
    "#Maruti is the highest in sales in FEB 21 SALES"
   ]
  },
  {
   "cell_type": "code",
   "execution_count": 32,
   "id": "9f2a644c",
   "metadata": {},
   "outputs": [],
   "source": [
    "#Finding top model where sales are highest\n",
    "df_model=df_car.groupby('Model')['Feb_21_Sales'].sum().sort_values(ascending=False).head(5)"
   ]
  },
  {
   "cell_type": "code",
   "execution_count": 33,
   "id": "ecd77fc6",
   "metadata": {},
   "outputs": [],
   "source": [
    "#Checking the dataframe& reset the index\n",
    "df_model=df_model.reset_index()"
   ]
  },
  {
   "cell_type": "code",
   "execution_count": 34,
   "id": "a72cc82c",
   "metadata": {},
   "outputs": [
    {
     "data": {
      "text/html": [
       "<div>\n",
       "<style scoped>\n",
       "    .dataframe tbody tr th:only-of-type {\n",
       "        vertical-align: middle;\n",
       "    }\n",
       "\n",
       "    .dataframe tbody tr th {\n",
       "        vertical-align: top;\n",
       "    }\n",
       "\n",
       "    .dataframe thead th {\n",
       "        text-align: right;\n",
       "    }\n",
       "</style>\n",
       "<table border=\"1\" class=\"dataframe\">\n",
       "  <thead>\n",
       "    <tr style=\"text-align: right;\">\n",
       "      <th></th>\n",
       "      <th>Model</th>\n",
       "      <th>Feb_21_Sales</th>\n",
       "    </tr>\n",
       "  </thead>\n",
       "  <tbody>\n",
       "    <tr>\n",
       "      <th>0</th>\n",
       "      <td>Swift</td>\n",
       "      <td>20264</td>\n",
       "    </tr>\n",
       "    <tr>\n",
       "      <th>1</th>\n",
       "      <td>Baleno</td>\n",
       "      <td>20070</td>\n",
       "    </tr>\n",
       "    <tr>\n",
       "      <th>2</th>\n",
       "      <td>Wagon R</td>\n",
       "      <td>18728</td>\n",
       "    </tr>\n",
       "    <tr>\n",
       "      <th>3</th>\n",
       "      <td>Alto</td>\n",
       "      <td>16919</td>\n",
       "    </tr>\n",
       "    <tr>\n",
       "      <th>4</th>\n",
       "      <td>Creta</td>\n",
       "      <td>12428</td>\n",
       "    </tr>\n",
       "  </tbody>\n",
       "</table>\n",
       "</div>"
      ],
      "text/plain": [
       "     Model  Feb_21_Sales\n",
       "0    Swift         20264\n",
       "1   Baleno         20070\n",
       "2  Wagon R         18728\n",
       "3     Alto         16919\n",
       "4    Creta         12428"
      ]
     },
     "execution_count": 34,
     "metadata": {},
     "output_type": "execute_result"
    }
   ],
   "source": [
    "#Checking the dataframe\n",
    "df_model"
   ]
  },
  {
   "cell_type": "code",
   "execution_count": 35,
   "id": "dcf5e97d",
   "metadata": {},
   "outputs": [
    {
     "name": "stderr",
     "output_type": "stream",
     "text": [
      "C:\\Users\\arabi\\AppData\\Local\\Packages\\PythonSoftwareFoundation.Python.3.9_qbz5n2kfra8p0\\LocalCache\\local-packages\\Python39\\site-packages\\seaborn\\_decorators.py:36: FutureWarning: Pass the following variables as keyword args: x, y. From version 0.12, the only valid positional argument will be `data`, and passing other arguments without an explicit keyword will result in an error or misinterpretation.\n",
      "  warnings.warn(\n"
     ]
    },
    {
     "data": {
      "text/plain": [
       "<AxesSubplot:xlabel='Model', ylabel='Feb_21_Sales'>"
      ]
     },
     "execution_count": 35,
     "metadata": {},
     "output_type": "execute_result"
    },
    {
     "data": {
      "image/png": "[encoded data removed]",
      "text/plain": [
       "<Figure size 1296x720 with 1 Axes>"
      ]
     },
     "metadata": {
      "needs_background": "light"
     },
     "output_type": "display_data"
    }
   ],
   "source": [
    "#Model Vs FEB 21 SALES(TOP MODEL SALES)\n",
    "sns.barplot('Model','Feb_21_Sales',data=df_model)\n",
    "#Swift is the highest in sales (FEB 21) "
   ]
  },
  {
   "cell_type": "code",
   "execution_count": 47,
   "id": "849a4550",
   "metadata": {},
   "outputs": [],
   "source": [
    "#YOY GROWTH & MODEL \n",
    "df_YOY=df_car.groupby('Model')['YOY_Growth'].sum().sort_values(ascending=False).reset_index()"
   ]
  },
  {
   "cell_type": "code",
   "execution_count": 48,
   "id": "5ad5aabd",
   "metadata": {},
   "outputs": [
    {
     "data": {
      "text/html": [
       "<div>\n",
       "<style scoped>\n",
       "    .dataframe tbody tr th:only-of-type {\n",
       "        vertical-align: middle;\n",
       "    }\n",
       "\n",
       "    .dataframe tbody tr th {\n",
       "        vertical-align: top;\n",
       "    }\n",
       "\n",
       "    .dataframe thead th {\n",
       "        text-align: right;\n",
       "    }\n",
       "</style>\n",
       "<table border=\"1\" class=\"dataframe\">\n",
       "  <thead>\n",
       "    <tr style=\"text-align: right;\">\n",
       "      <th></th>\n",
       "      <th>Model</th>\n",
       "      <th>YOY_Growth</th>\n",
       "    </tr>\n",
       "  </thead>\n",
       "  <tbody>\n",
       "    <tr>\n",
       "      <th>0</th>\n",
       "      <td>Bolero</td>\n",
       "      <td>128.06</td>\n",
       "    </tr>\n",
       "    <tr>\n",
       "      <th>1</th>\n",
       "      <td>Thar</td>\n",
       "      <td>78.47</td>\n",
       "    </tr>\n",
       "    <tr>\n",
       "      <th>2</th>\n",
       "      <td>Celerio</td>\n",
       "      <td>59.25</td>\n",
       "    </tr>\n",
       "    <tr>\n",
       "      <th>3</th>\n",
       "      <td>Nexon</td>\n",
       "      <td>54.61</td>\n",
       "    </tr>\n",
       "    <tr>\n",
       "      <th>4</th>\n",
       "      <td>Dzire</td>\n",
       "      <td>46.53</td>\n",
       "    </tr>\n",
       "  </tbody>\n",
       "</table>\n",
       "</div>"
      ],
      "text/plain": [
       "     Model  YOY_Growth\n",
       "0   Bolero      128.06\n",
       "1     Thar       78.47\n",
       "2  Celerio       59.25\n",
       "3    Nexon       54.61\n",
       "4    Dzire       46.53"
      ]
     },
     "execution_count": 48,
     "metadata": {},
     "output_type": "execute_result"
    }
   ],
   "source": [
    "#CHECKING THE DATAFRMAME\n",
    "df_YOY.head()"
   ]
  },
  {
   "cell_type": "code",
   "execution_count": 61,
   "id": "91f14863",
   "metadata": {},
   "outputs": [
    {
     "name": "stderr",
     "output_type": "stream",
     "text": [
      "C:\\Users\\arabi\\AppData\\Local\\Packages\\PythonSoftwareFoundation.Python.3.9_qbz5n2kfra8p0\\LocalCache\\local-packages\\Python39\\site-packages\\seaborn\\_decorators.py:36: FutureWarning: Pass the following variables as keyword args: x, y. From version 0.12, the only valid positional argument will be `data`, and passing other arguments without an explicit keyword will result in an error or misinterpretation.\n",
      "  warnings.warn(\n"
     ]
    },
    {
     "data": {
      "text/plain": [
       "<AxesSubplot:xlabel='Model', ylabel='YOY_Growth'>"
      ]
     },
     "execution_count": 61,
     "metadata": {},
     "output_type": "execute_result"
    },
    {
     "data": {
      "image/png": "[encoded data removed]",
      "text/plain": [
       "<Figure size 1296x720 with 1 Axes>"
      ]
     },
     "metadata": {
      "needs_background": "light"
     },
     "output_type": "display_data"
    }
   ],
   "source": [
    "#MODEL VS YOY GROWTH\n",
    "sns.barplot('Model','YOY_Growth',data=df_YOY,capsize=.6)\n",
    "#Bolero is highest sell & Baleno is the lowest in the YOY growth "
   ]
  },
  {
   "cell_type": "code",
   "execution_count": 85,
   "id": "5477b074",
   "metadata": {},
   "outputs": [
    {
     "data": {
      "text/html": [
       "<div>\n",
       "<style scoped>\n",
       "    .dataframe tbody tr th:only-of-type {\n",
       "        vertical-align: middle;\n",
       "    }\n",
       "\n",
       "    .dataframe tbody tr th {\n",
       "        vertical-align: top;\n",
       "    }\n",
       "\n",
       "    .dataframe thead th {\n",
       "        text-align: right;\n",
       "    }\n",
       "</style>\n",
       "<table border=\"1\" class=\"dataframe\">\n",
       "  <thead>\n",
       "    <tr style=\"text-align: right;\">\n",
       "      <th></th>\n",
       "      <th>OEM</th>\n",
       "      <th>Model</th>\n",
       "      <th>Feb_22_Sales</th>\n",
       "    </tr>\n",
       "  </thead>\n",
       "  <tbody>\n",
       "    <tr>\n",
       "      <th>0</th>\n",
       "      <td>Maruti</td>\n",
       "      <td>Swift</td>\n",
       "      <td>19202</td>\n",
       "    </tr>\n",
       "    <tr>\n",
       "      <th>1</th>\n",
       "      <td>Maruti</td>\n",
       "      <td>Dzire</td>\n",
       "      <td>17438</td>\n",
       "    </tr>\n",
       "  </tbody>\n",
       "</table>\n",
       "</div>"
      ],
      "text/plain": [
       "      OEM  Model  Feb_22_Sales\n",
       "0  Maruti  Swift         19202\n",
       "1  Maruti  Dzire         17438"
      ]
     },
     "execution_count": 85,
     "metadata": {},
     "output_type": "execute_result"
    }
   ],
   "source": [
    "df_model.head(2)"
   ]
  },
  {
   "cell_type": "code",
   "execution_count": 84,
   "id": "271a91e5",
   "metadata": {},
   "outputs": [],
   "source": [
    "df_model=df_car.groupby(['OEM','Model'])['Feb_22_Sales'].sum().sort_values(ascending=False).reset_index()"
   ]
  },
  {
   "cell_type": "code",
   "execution_count": 94,
   "id": "11d5e9a1",
   "metadata": {},
   "outputs": [
    {
     "name": "stderr",
     "output_type": "stream",
     "text": [
      "C:\\Users\\arabi\\AppData\\Local\\Packages\\PythonSoftwareFoundation.Python.3.9_qbz5n2kfra8p0\\LocalCache\\local-packages\\Python39\\site-packages\\seaborn\\_decorators.py:36: FutureWarning: Pass the following variables as keyword args: x, y. From version 0.12, the only valid positional argument will be `data`, and passing other arguments without an explicit keyword will result in an error or misinterpretation.\n",
      "  warnings.warn(\n"
     ]
    },
    {
     "data": {
      "text/plain": [
       "<AxesSubplot:xlabel='Model', ylabel='Feb_22_Sales'>"
      ]
     },
     "execution_count": 94,
     "metadata": {},
     "output_type": "execute_result"
    },
    {
     "data": {
      "image/png": "[encoded data removed]",
      "text/plain": [
       "<Figure size 1296x720 with 1 Axes>"
      ]
     },
     "metadata": {
      "needs_background": "light"
     },
     "output_type": "display_data"
    }
   ],
   "source": [
    "#MODEL VS OEM VS FEB 21 SALES \n",
    "sns.barplot('Model','Feb_22_Sales',hue='OEM',data=df_model,capsize=9)"
   ]
  },
  {
   "cell_type": "code",
   "execution_count": 100,
   "id": "0d99e190",
   "metadata": {},
   "outputs": [
    {
     "data": {
      "text/plain": [
       "<AxesSubplot:>"
      ]
     },
     "execution_count": 100,
     "metadata": {},
     "output_type": "execute_result"
    },
    {
     "data": {
      "image/png": "[encoded data removed]",
      "text/plain": [
       "<Figure size 1296x720 with 1 Axes>"
      ]
     },
     "metadata": {
      "needs_background": "light"
     },
     "output_type": "display_data"
    }
   ],
   "source": [
    "#sns.barplot('Model','Feb_22_Sales',hue='OEM',data=df_model,capsize=9)\n",
    "df_model.plot.bar(rot=0)\n"
   ]
  },
  {
   "cell_type": "code",
   "execution_count": 114,
   "id": "52f099c4",
   "metadata": {},
   "outputs": [
    {
     "data": {
      "text/plain": [
       "<AxesSubplot:>"
      ]
     },
     "execution_count": 114,
     "metadata": {},
     "output_type": "execute_result"
    },
    {
     "data": {
      "image/png": "[encoded data removed]",
      "text/plain": [
       "<Figure size 1296x720 with 1 Axes>"
      ]
     },
     "metadata": {
      "needs_background": "light"
     },
     "output_type": "display_data"
    }
   ],
   "source": [
    "df_car[['OEM','Feb_22_Sales','Feb_21_Sales']].plot.bar(stacked=True,rot=0)\n",
    "#df_car[['Feb_22_Sales','Feb_21_Sales']].set_index(df_car['OEM']).plot.bar(stacked=True,rot=0)"
   ]
  },
  {
   "cell_type": "code",
   "execution_count": null,
   "id": "2d6e38fc",
   "metadata": {},
   "outputs": [],
   "source": []
  }
 ],
 "metadata": {
  "kernelspec": {
   "display_name": "Python 3 (ipykernel)",
   "language": "python",
   "name": "python3"
  },
  "language_info": {
   "codemirror_mode": {
    "name": "ipython",
    "version": 3
   },
   "file_extension": ".py",
   "mimetype": "text/x-python",
   "name": "python",
   "nbconvert_exporter": "python",
   "pygments_lexer": "ipython3",
   "version": "3.9.10"
  }
 },
 "nbformat": 4,
 "nbformat_minor": 5
}
